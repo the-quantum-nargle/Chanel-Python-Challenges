{
 "cells": [
  {
   "cell_type": "markdown",
   "metadata": {},
   "source": [
    "Initial Research using: https://openweathermap.org/current\n"
   ]
  },
  {
   "cell_type": "code",
   "execution_count": 11,
   "metadata": {},
   "outputs": [
    {
     "data": {
      "text/plain": [
       "{'coord': {'lon': 114.1577, 'lat': 22.2855},\n",
       " 'weather': [{'id': 804,\n",
       "   'main': 'Clouds',\n",
       "   'description': 'overcast clouds',\n",
       "   'icon': '04d'}],\n",
       " 'base': 'stations',\n",
       " 'main': {'temp': 20.46,\n",
       "  'feels_like': 20.94,\n",
       "  'temp_min': 17.03,\n",
       "  'temp_max': 22.19,\n",
       "  'pressure': 1017,\n",
       "  'humidity': 91},\n",
       " 'visibility': 10000,\n",
       " 'wind': {'speed': 4.02, 'deg': 135, 'gust': 6.26},\n",
       " 'clouds': {'all': 96},\n",
       " 'dt': 1709172438,\n",
       " 'sys': {'type': 2,\n",
       "  'id': 2035800,\n",
       "  'country': 'HK',\n",
       "  'sunrise': 1709160331,\n",
       "  'sunset': 1709202398},\n",
       " 'timezone': 28800,\n",
       " 'id': 1819729,\n",
       " 'name': 'Hong Kong',\n",
       " 'cod': 200}"
      ]
     },
     "execution_count": 11,
     "metadata": {},
     "output_type": "execute_result"
    }
   ],
   "source": [
    "import requests\n",
    "import os\n",
    "from dotenv import load_dotenv\n",
    "\n",
    "\n",
    "load_dotenv()\n",
    "\n",
    "API_KEY = os.getenv('OPENWEATHER_API_KEY')\n",
    "CITY_NAME = 'Hong Kong'\n",
    "BASE_URL = \"https://api.openweathermap.org/data/2.5/weather?\"\n",
    "\n",
    "# Pramateres used to make a request to OpenWeatherMap API\n",
    "params = {\n",
    "    'q': CITY_NAME,\n",
    "    'appid': API_KEY,\n",
    "    'units': 'metric' #default is Fahrenheit, changing to metric for Celsius\n",
    "}\n",
    "\n",
    "response = requests.get(BASE_URL, params=params)\n",
    "\n",
    "response.json()"
   ]
  },
  {
   "cell_type": "code",
   "execution_count": null,
   "metadata": {},
   "outputs": [],
   "source": []
  }
 ],
 "metadata": {
  "kernelspec": {
   "display_name": "Python 3",
   "language": "python",
   "name": "python3"
  },
  "language_info": {
   "codemirror_mode": {
    "name": "ipython",
    "version": 3
   },
   "file_extension": ".py",
   "mimetype": "text/x-python",
   "name": "python",
   "nbconvert_exporter": "python",
   "pygments_lexer": "ipython3",
   "version": "3.9.6"
  }
 },
 "nbformat": 4,
 "nbformat_minor": 2
}
